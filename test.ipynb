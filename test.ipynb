{
 "cells": [
  {
   "cell_type": "code",
   "execution_count": 4,
   "id": "bdda0ac1",
   "metadata": {},
   "outputs": [],
   "source": [
    "import pandas as pd"
   ]
  },
  {
   "cell_type": "code",
   "execution_count": 5,
   "id": "94217bf8",
   "metadata": {},
   "outputs": [
    {
     "name": "stdout",
     "output_type": "stream",
     "text": [
      "<class 'pandas.core.frame.DataFrame'>\n",
      "RangeIndex: 3 entries, 0 to 2\n",
      "Data columns (total 8 columns):\n",
      " #   Column            Non-Null Count  Dtype \n",
      "---  ------            --------------  ----- \n",
      " 0   Ism               3 non-null      object\n",
      " 1   Telegram ID       3 non-null      int64 \n",
      " 2   Shahar | Viloyat  3 non-null      object\n",
      " 3   Yoshi             3 non-null      int64 \n",
      " 4   Qo‘shilgan sana   3 non-null      object\n",
      " 5   Loyihalar         3 non-null      int64 \n",
      " 6   Bloglar           3 non-null      int64 \n",
      " 7   Ko‘ngillilik      3 non-null      int64 \n",
      "dtypes: int64(5), object(3)\n",
      "memory usage: 324.0+ bytes\n"
     ]
    }
   ],
   "source": [
    "df = pd.read_csv(\"users_list.csv\")\n",
    "df.info()"
   ]
  },
  {
   "cell_type": "code",
   "execution_count": 6,
   "id": "76c64381",
   "metadata": {},
   "outputs": [
    {
     "data": {
      "text/html": [
       "<div>\n",
       "<style scoped>\n",
       "    .dataframe tbody tr th:only-of-type {\n",
       "        vertical-align: middle;\n",
       "    }\n",
       "\n",
       "    .dataframe tbody tr th {\n",
       "        vertical-align: top;\n",
       "    }\n",
       "\n",
       "    .dataframe thead th {\n",
       "        text-align: right;\n",
       "    }\n",
       "</style>\n",
       "<table border=\"1\" class=\"dataframe\">\n",
       "  <thead>\n",
       "    <tr style=\"text-align: right;\">\n",
       "      <th></th>\n",
       "      <th>Ism</th>\n",
       "      <th>Telegram ID</th>\n",
       "      <th>Shahar | Viloyat</th>\n",
       "      <th>Yoshi</th>\n",
       "      <th>Qo‘shilgan sana</th>\n",
       "      <th>Loyihalar</th>\n",
       "      <th>Bloglar</th>\n",
       "      <th>Ko‘ngillilik</th>\n",
       "    </tr>\n",
       "  </thead>\n",
       "  <tbody>\n",
       "    <tr>\n",
       "      <th>0</th>\n",
       "      <td>.Dragon. 🐉</td>\n",
       "      <td>5012184829</td>\n",
       "      <td>Buxoro shahri</td>\n",
       "      <td>20</td>\n",
       "      <td>2025-06-21</td>\n",
       "      <td>1</td>\n",
       "      <td>2</td>\n",
       "      <td>0</td>\n",
       "    </tr>\n",
       "    <tr>\n",
       "      <th>1</th>\n",
       "      <td>Humoyun Adhamjonov</td>\n",
       "      <td>1610011194</td>\n",
       "      <td>Toshkent shahri</td>\n",
       "      <td>19</td>\n",
       "      <td>2025-06-21</td>\n",
       "      <td>0</td>\n",
       "      <td>0</td>\n",
       "      <td>1</td>\n",
       "    </tr>\n",
       "    <tr>\n",
       "      <th>2</th>\n",
       "      <td>Oybek</td>\n",
       "      <td>6336842476</td>\n",
       "      <td>Toshkent shahri</td>\n",
       "      <td>18</td>\n",
       "      <td>2025-06-21</td>\n",
       "      <td>0</td>\n",
       "      <td>0</td>\n",
       "      <td>0</td>\n",
       "    </tr>\n",
       "  </tbody>\n",
       "</table>\n",
       "</div>"
      ],
      "text/plain": [
       "                  Ism  Telegram ID Shahar | Viloyat  Yoshi Qo‘shilgan sana  \\\n",
       "0          .Dragon. 🐉   5012184829    Buxoro shahri     20      2025-06-21   \n",
       "1  Humoyun Adhamjonov   1610011194  Toshkent shahri     19      2025-06-21   \n",
       "2               Oybek   6336842476  Toshkent shahri     18      2025-06-21   \n",
       "\n",
       "   Loyihalar  Bloglar  Ko‘ngillilik  \n",
       "0          1        2             0  \n",
       "1          0        0             1  \n",
       "2          0        0             0  "
      ]
     },
     "execution_count": 6,
     "metadata": {},
     "output_type": "execute_result"
    }
   ],
   "source": [
    "df.head()"
   ]
  }
 ],
 "metadata": {
  "kernelspec": {
   "display_name": ".venv",
   "language": "python",
   "name": "python3"
  },
  "language_info": {
   "codemirror_mode": {
    "name": "ipython",
    "version": 3
   },
   "file_extension": ".py",
   "mimetype": "text/x-python",
   "name": "python",
   "nbconvert_exporter": "python",
   "pygments_lexer": "ipython3",
   "version": "3.11.9"
  }
 },
 "nbformat": 4,
 "nbformat_minor": 5
}
